{
  "nbformat": 4,
  "nbformat_minor": 0,
  "metadata": {
    "colab": {
      "name": "Memory Optimization, multiprocess in python.ipynb",
      "provenance": [],
      "collapsed_sections": []
    },
    "kernelspec": {
      "name": "python3",
      "display_name": "Python 3"
    },
    "language_info": {
      "name": "python"
    }
  },
  "cells": [
    {
      "cell_type": "markdown",
      "source": [
        "# Sparse"
      ],
      "metadata": {
        "id": "L-NJbFFhWbfM"
      }
    },
    {
      "cell_type": "code",
      "execution_count": null,
      "metadata": {
        "id": "lQ3W7VBUJ5bM"
      },
      "outputs": [],
      "source": [
        "import pandas as pd"
      ]
    },
    {
      "cell_type": "code",
      "source": [
        "df = pd.DataFrame({'cat':['a', 'b', 'c', 'b', 'c', 'a']})\n",
        "df.to_csv(\"temp.csv\")"
      ],
      "metadata": {
        "id": "KWuf6Aw3KcXy"
      },
      "execution_count": null,
      "outputs": []
    },
    {
      "cell_type": "code",
      "source": [
        "df = pd.read_csv('temp.csv')\n",
        "print(df['cat'])\n",
        "df['cat'].memory_usage(index=False, deep=True)"
      ],
      "metadata": {
        "colab": {
          "base_uri": "https://localhost:8080/"
        },
        "id": "5qgZ7KbeLyMQ",
        "outputId": "51ff061a-f5b5-42bf-a278-f6ffc6d43fd3"
      },
      "execution_count": null,
      "outputs": [
        {
          "output_type": "stream",
          "name": "stdout",
          "text": [
            "0    a\n",
            "1    b\n",
            "2    c\n",
            "3    b\n",
            "4    c\n",
            "5    a\n",
            "Name: cat, dtype: object\n"
          ]
        },
        {
          "output_type": "execute_result",
          "data": {
            "text/plain": [
              "348"
            ]
          },
          "metadata": {},
          "execution_count": 5
        }
      ]
    },
    {
      "cell_type": "code",
      "source": [
        "df = pd.read_csv('temp.csv', dtype={\"cat\": \"category\"})\n",
        "df['cat'].memory_usage(index=False, deep=True)"
      ],
      "metadata": {
        "colab": {
          "base_uri": "https://localhost:8080/"
        },
        "id": "jNTLB1EDMf8U",
        "outputId": "decbb47c-b103-4678-f10c-f561a2110254"
      },
      "execution_count": null,
      "outputs": [
        {
          "output_type": "execute_result",
          "data": {
            "text/plain": [
              "180"
            ]
          },
          "metadata": {},
          "execution_count": 6
        }
      ]
    },
    {
      "cell_type": "code",
      "source": [
        "df = pd.DataFrame({'ser': ['eaf', None, 'st', 'arg', None, None, None] * 10000})\n",
        "series = df['ser']\n",
        "series.memory_usage(index=False, deep=True)"
      ],
      "metadata": {
        "colab": {
          "base_uri": "https://localhost:8080/"
        },
        "id": "esx2HxyJ9ZON",
        "outputId": "3d6dac4d-9213-470e-b6e5-4d51fc23abb7"
      },
      "execution_count": null,
      "outputs": [
        {
          "output_type": "execute_result",
          "data": {
            "text/plain": [
              "2750000"
            ]
          },
          "metadata": {},
          "execution_count": 20
        }
      ]
    },
    {
      "cell_type": "code",
      "source": [
        "len(series)"
      ],
      "metadata": {
        "colab": {
          "base_uri": "https://localhost:8080/"
        },
        "id": "6iHtVP9y9602",
        "outputId": "732d4067-6ff0-47a3-9659-eb30fc1a90bc"
      },
      "execution_count": null,
      "outputs": [
        {
          "output_type": "execute_result",
          "data": {
            "text/plain": [
              "70000"
            ]
          },
          "metadata": {},
          "execution_count": 21
        }
      ]
    },
    {
      "cell_type": "code",
      "source": [
        "sparse_series = series.astype(\"Sparse[str]\")\n",
        "len(sparse_series)"
      ],
      "metadata": {
        "colab": {
          "base_uri": "https://localhost:8080/"
        },
        "id": "bdJ3zhmu9_S3",
        "outputId": "533bcccd-ae21-43c2-867f-aa09b828db2d"
      },
      "execution_count": null,
      "outputs": [
        {
          "output_type": "execute_result",
          "data": {
            "text/plain": [
              "70000"
            ]
          },
          "metadata": {},
          "execution_count": 22
        }
      ]
    },
    {
      "cell_type": "code",
      "source": [
        "sparse_series.memory_usage(index=False, deep=True)"
      ],
      "metadata": {
        "colab": {
          "base_uri": "https://localhost:8080/"
        },
        "id": "ga1LQxVz-Kd9",
        "outputId": "9d9c7f90-34a5-4310-d4f1-d57a711e3200"
      },
      "execution_count": null,
      "outputs": [
        {
          "output_type": "execute_result",
          "data": {
            "text/plain": [
              "2870000"
            ]
          },
          "metadata": {},
          "execution_count": 23
        }
      ]
    },
    {
      "cell_type": "markdown",
      "source": [
        "# Multiprocessing"
      ],
      "metadata": {
        "id": "HMhAXiQZWWJM"
      }
    },
    {
      "cell_type": "code",
      "source": [
        "import multiprocessing as mp \n",
        "import math\n",
        "import time"
      ],
      "metadata": {
        "id": "BIAi52v0WVET"
      },
      "execution_count": null,
      "outputs": []
    },
    {
      "cell_type": "code",
      "source": [
        "results_a = []\n",
        "results_b = []\n",
        "results_c = []"
      ],
      "metadata": {
        "id": "XZhz457iW-8a"
      },
      "execution_count": null,
      "outputs": []
    },
    {
      "cell_type": "code",
      "source": [
        "def make_calculation_one(numbers):\n",
        "  for number in numbers:\n",
        "    results_a.append(math.sqrt(number ** 3))\n",
        "def make_calculation_two(numbers):\n",
        "  for number in numbers:\n",
        "    results_a.append(math.sqrt(number ** 4))\n",
        "def make_calculation_three(numbers):\n",
        "  for number in numbers:\n",
        "    results_a.append(math.sqrt(number ** 5))"
      ],
      "metadata": {
        "id": "xGJtoJvPh7G-"
      },
      "execution_count": null,
      "outputs": []
    },
    {
      "cell_type": "code",
      "source": [
        "numbers = list(range(1000000))\n",
        "start = time.time()\n",
        "make_calculation_one(numbers)\n",
        "make_calculation_two(numbers)\n",
        "make_calculation_three(numbers)\n",
        "end = time.time()\n",
        "print(end-start)"
      ],
      "metadata": {
        "colab": {
          "base_uri": "https://localhost:8080/"
        },
        "id": "B3K6l1Axq-0m",
        "outputId": "26901535-7b34-4d96-db72-2afaef1f44d7"
      },
      "execution_count": null,
      "outputs": [
        {
          "output_type": "stream",
          "name": "stdout",
          "text": [
            "1.8163659572601318\n"
          ]
        }
      ]
    },
    {
      "cell_type": "code",
      "source": [
        "p1 = mp.Process(target=make_calculation_one, args=(numbers,))\n",
        "p2 = mp.Process(target=make_calculation_two, args=(numbers,))\n",
        "p3 = mp.Process(target=make_calculation_three, args=(numbers,))"
      ],
      "metadata": {
        "id": "EFP_S7Por-Jn"
      },
      "execution_count": null,
      "outputs": []
    },
    {
      "cell_type": "code",
      "source": [
        "start = time.time()\n",
        "p1.start()\n",
        "p2.start()\n",
        "p3.start()\n",
        "end = time.time()\n",
        "print(end-start)"
      ],
      "metadata": {
        "colab": {
          "base_uri": "https://localhost:8080/"
        },
        "id": "8deZzSLSu6gE",
        "outputId": "34b4f851-f5ab-4ff0-ecd8-d00db7306320"
      },
      "execution_count": null,
      "outputs": [
        {
          "output_type": "stream",
          "name": "stdout",
          "text": [
            "0.0732269287109375\n"
          ]
        }
      ]
    }
  ]
}